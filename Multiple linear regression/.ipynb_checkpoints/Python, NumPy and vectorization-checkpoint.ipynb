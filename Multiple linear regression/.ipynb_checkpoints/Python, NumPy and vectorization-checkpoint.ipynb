{
 "cells": [
  {
   "cell_type": "code",
   "execution_count": 1,
   "id": "7fc35ba8",
   "metadata": {},
   "outputs": [],
   "source": [
    "import numpy as np\n",
    "import time"
   ]
  },
  {
   "cell_type": "markdown",
   "id": "165aeb8a",
   "metadata": {},
   "source": [
    "# VECTORS - ONE DIM ARRAY - with elements"
   ]
  },
  {
   "cell_type": "markdown",
   "id": "40bbca4c",
   "metadata": {},
   "source": [
    "# (4,) is 1-dimenzional array with 4 elements, but for example (4,1) is 2-dim array with 4 ROWS and 1 COLUMN"
   ]
  },
  {
   "cell_type": "code",
   "execution_count": 2,
   "id": "842e6ea2",
   "metadata": {},
   "outputs": [
    {
     "name": "stdout",
     "output_type": "stream",
     "text": [
      "np.zeros(4) :  a = [0. 0. 0. 0.], a shape = (4,), a data type = float64\n",
      "np.zeros(4) :  a = [0. 0. 0. 0.], a shape = (4,), a data type = float64\n",
      "np.zeros(4) :  a = [0.46260998 0.25839795 0.23539538 0.8132867 ], a shape = (4,), a data type = float64\n"
     ]
    }
   ],
   "source": [
    "#Vector Creation\n",
    "\n",
    "# NumPy routines which allocate memory and fill arrays with value --> decimal values\n",
    "\n",
    "a = np.zeros(4); print(f\"np.zeros(4) :  a = {a}, a shape = {a.shape}, a data type = {a.dtype}\")\n",
    "a = np.zeros((4,)); print(f\"np.zeros(4) :  a = {a}, a shape = {a.shape}, a data type = {a.dtype}\")\n",
    "a = np.random.random_sample(4); print(f\"np.zeros(4) :  a = {a}, a shape = {a.shape}, a data type = {a.dtype}\")\n",
    "\n",
    "# (4,) is 1-dimenzional array, but for example (4,1) is 2-dim array"
   ]
  },
  {
   "cell_type": "markdown",
   "id": "e8d14c29",
   "metadata": {},
   "source": [
    "# 4. is a float number, and 4 is a int number"
   ]
  },
  {
   "cell_type": "code",
   "execution_count": 4,
   "id": "651c97aa",
   "metadata": {},
   "outputs": [
    {
     "name": "stdout",
     "output_type": "stream",
     "text": [
      "np.zeros(4) :  a = [0. 1. 2. 3.], a shape = (4,), a data type = float64\n",
      "np.zeros(4) :  a = [0.39493514 0.91022975 0.5234967  0.88451892], a shape = (4,), a data type = float64\n"
     ]
    }
   ],
   "source": [
    "# NumPy routines which allocate memory and fill arrays with value but do not accept shape as input argument\n",
    "# get the number from 0 to 4 (without 4) - decimal values\n",
    "a = np.arange(4.); print(f\"np.zeros(4) :  a = {a}, a shape = {a.shape}, a data type = {a.dtype}\")\n",
    "#get 4 random number from 0 to 1\n",
    "a = np.random.rand(4); print(f\"np.zeros(4) :  a = {a}, a shape = {a.shape}, a data type = {a.dtype}\")"
   ]
  },
  {
   "cell_type": "markdown",
   "id": "66c0af55",
   "metadata": {},
   "source": [
    "# a = np.array([5,4,3,2]) is a 1 dim array with 4 elements or vector [5,4,3,2]"
   ]
  },
  {
   "cell_type": "code",
   "execution_count": 30,
   "id": "d2515b2c",
   "metadata": {},
   "outputs": [
    {
     "name": "stdout",
     "output_type": "stream",
     "text": [
      "np.zeros(4) :  a = [5 4 3 2], a shape = (4,), a data type = int32\n",
      "np.zeros(4) :  a = [5. 4. 3. 2.], a shape = (4,), a data type = float64\n"
     ]
    }
   ],
   "source": [
    "# NumPy routines which allocate memory and fill with user specified values\n",
    "\n",
    "# int array \n",
    "a = np.array([5,4,3,2]); print(f\"np.zeros(4) :  a = {a}, a shape = {a.shape}, a data type = {a.dtype}\")\n",
    "#decimal array - if only one number is decimal it cast all number from int to decimal\n",
    "a = np.array([5.,4,3,2]); print(f\"np.zeros(4) :  a = {a}, a shape = {a.shape}, a data type = {a.dtype}\")"
   ]
  },
  {
   "cell_type": "code",
   "execution_count": 7,
   "id": "6db9aa65",
   "metadata": {},
   "outputs": [
    {
     "name": "stdout",
     "output_type": "stream",
     "text": [
      "[0 1 2 3 4 5 6 7 8 9]\n",
      "a[2].shape: () a[2] = 2, Accesing an element returns a scalar\n",
      "a[-1] = 9\n",
      "index 10 is out of bounds for axis 0 with size 10\n"
     ]
    }
   ],
   "source": [
    "#Operations on Vectors\n",
    "#get the int array because we set 10 not 10.\n",
    "a = np.arange(10)\n",
    "print(a)\n",
    "\n",
    "#Access an element - a[index], last element a[-1]\n",
    "\n",
    "print(f\"a[2].shape: {a[2].shape} a[2] = {a[2]}, Accesing an element returns a scalar\")\n",
    "\n",
    "#Access the last element\n",
    "\n",
    "print(f\"a[-1] = {a[-1]}\")\n",
    "\n",
    "#indexs must be within the range of the vector or they will produce and error\n",
    "\n",
    "try:\n",
    "    c = a[10]\n",
    "except Exception as e:\n",
    "    print(e)"
   ]
  },
  {
   "cell_type": "code",
   "execution_count": 8,
   "id": "6d525d97",
   "metadata": {},
   "outputs": [
    {
     "name": "stdout",
     "output_type": "stream",
     "text": [
      "a         = [0 1 2 3 4 5 6 7 8 9]\n",
      "a[2:7:1] = [2 3 4 5 6]\n",
      "a[2:7:2]= [2 4 6]\n",
      "a[3:] =  [3 4 5 6 7 8 9]\n",
      "a[:3] =  [0 1 2]\n",
      "a[:] [0 1 2 3 4 5 6 7 8 9]\n"
     ]
    }
   ],
   "source": [
    "#Slicing (start:stop:step)\n",
    "#get the int array because we set 10 not 10.\n",
    "a = np.arange(10)\n",
    "print(f\"a         = {a}\")\n",
    "\n",
    "#access 5 consecutive elements (start:stop:step)\n",
    "#from index 2 to 7 by 1 --> 2 3 4 5 6 - without 7\n",
    "c = a[2:7:1]; print(\"a[2:7:1] =\", c)\n",
    "\n",
    "#access 3 elements separated by two\n",
    "#from index 2 to 7 by 2 --> 2 4 6\n",
    "c = a[2:7:2]; print(\"a[2:7:2]=\", c)\n",
    "\n",
    "#access all elements index 3 and above\n",
    "#from index 3 to the end - with end and with index 3\n",
    "c = a[3:]; print(\"a[3:] = \", c)\n",
    "\n",
    "\n",
    "#access all elements below index 3\n",
    "#from index 0 to 3 --> 0 1 2 - without 3\n",
    "c = a[:3]; print(\"a[:3] = \", c)\n",
    "\n",
    "#access all elements\n",
    "\n",
    "c = a[:]; print(\"a[:]\", c)"
   ]
  },
  {
   "cell_type": "code",
   "execution_count": 9,
   "id": "0d27fa23",
   "metadata": {},
   "outputs": [
    {
     "name": "stdout",
     "output_type": "stream",
     "text": [
      "a: [1 2 3 4]\n",
      "b = -a : [-1 -2 -3 -4]\n",
      "np.sum(a) : 10\n",
      "np.mean(a) : 2.5\n",
      "a**2: [ 1  4  9 16]\n"
     ]
    }
   ],
   "source": [
    "#Single vector operations\n",
    "\n",
    "a = np.array([1,2,3,4])\n",
    "print(f\"a: {a}\")\n",
    "#negate elements of a\n",
    "b = -a\n",
    "print(f\"b = -a : {b}\")\n",
    "\n",
    "\n",
    "#Sum all elements of a, returns a scalar\n",
    "\n",
    "b = np.sum(a)\n",
    "print(f\"np.sum(a) : {b}\")\n",
    "\n",
    "b = np.mean(a)\n",
    "print(f\"np.mean(a) : {b}\")\n",
    "\n",
    "b = a**2\n",
    "print(f\"a**2: {b}\")"
   ]
  },
  {
   "cell_type": "code",
   "execution_count": 10,
   "id": "c56e2e7b",
   "metadata": {},
   "outputs": [
    {
     "name": "stdout",
     "output_type": "stream",
     "text": [
      "Binary operations work element wise (if same size): [0 0 6 8]\n"
     ]
    }
   ],
   "source": [
    "#Vector Vector element-wise operations\n",
    "\n",
    "a = np.array([1,2,3,4])\n",
    "b = np.array([-1,-2,3,4])\n",
    "#sum every element of a with every element of b - if the same size (in elements and shapes)\n",
    "print(f\"Binary operations work element wise (if same size): {a + b}\")"
   ]
  },
  {
   "cell_type": "code",
   "execution_count": 11,
   "id": "f105e1f3",
   "metadata": {},
   "outputs": [
    {
     "name": "stdout",
     "output_type": "stream",
     "text": [
      "operands could not be broadcast together with shapes (4,) (2,) \n"
     ]
    }
   ],
   "source": [
    "#Mismatched vectors\n",
    "# 1 dim array with 2 elements\n",
    "c = np.array([1,2])\n",
    "\n",
    "try:\n",
    "    d = a + c\n",
    "\n",
    "except Exception as e:\n",
    "    print(e)"
   ]
  },
  {
   "cell_type": "code",
   "execution_count": 12,
   "id": "8cef0a87",
   "metadata": {},
   "outputs": [
    {
     "name": "stdout",
     "output_type": "stream",
     "text": [
      "b = 5 * a : [ 5 10 15 20]\n"
     ]
    }
   ],
   "source": [
    "#Scalaer Vector Operations\n",
    "#1 dim array with 4 elements\n",
    "a = np.array([1,2,3,4])\n",
    "\n",
    "#multiply a by a scalar\n",
    "#every number in vector multiply by scalar\n",
    "b = 5 * a\n",
    "print(f\"b = 5 * a : {b}\")"
   ]
  },
  {
   "cell_type": "code",
   "execution_count": 13,
   "id": "3e6d1bed",
   "metadata": {},
   "outputs": [],
   "source": [
    "#Vector to Vector dot product (multiplies the values in two vectors element-wise and then sums the result).\n",
    "#without vectorization\n",
    "\n",
    "def my_dot(a,b):\n",
    "    \"\"\"\n",
    "   Compute the dot product of two vectors\n",
    " \n",
    "    Args:\n",
    "      a (ndarray (n,)):  input vector \n",
    "      b (ndarray (n,)):  input vector with same dimension as a\n",
    "    \n",
    "    Returns:\n",
    "      x (scalar): \n",
    "    \"\"\"\n",
    "    x = 0\n",
    "    for i in range(a.shape[0]):\n",
    "        x = x + a[i] * b[i]\n",
    "    return x"
   ]
  },
  {
   "cell_type": "code",
   "execution_count": 29,
   "id": "648a31c9",
   "metadata": {},
   "outputs": [
    {
     "name": "stdout",
     "output_type": "stream",
     "text": [
      "(4,)\n",
      "(4,)\n",
      "my_dot(a,b) = 24\n"
     ]
    }
   ],
   "source": [
    "#Test 1-D\n",
    "#i dont know how vectors are multiplied\n",
    "# 1dim array with 4 elements\n",
    "a = np.array([1,2,3,4])\n",
    "print(a.shape)\n",
    "b = np.array([-1, 4, 3, 2])\n",
    "print(b.shape)\n",
    "print(f\"my_dot(a,b) = {my_dot(a,b)}\")"
   ]
  },
  {
   "cell_type": "code",
   "execution_count": 16,
   "id": "65064bbd",
   "metadata": {},
   "outputs": [
    {
     "name": "stdout",
     "output_type": "stream",
     "text": [
      "NumPy 1-D np.dot(a, b) = 24, np.dot(a, b).shape = () \n",
      "NumPy 1-D np.dot(b, a) = 24, np.dot(a, b).shape = () \n"
     ]
    }
   ],
   "source": [
    "#Using numpy np.dot function - with vectorization\n",
    "\n",
    "# test 1-D\n",
    "a = np.array([1, 2, 3, 4])\n",
    "b = np.array([-1, 4, 3, 2])\n",
    "\n",
    "c = np.dot(a,b)\n",
    "print(f\"NumPy 1-D np.dot(a, b) = {c}, np.dot(a, b).shape = {c.shape} \") \n",
    "c = np.dot(b, a)\n",
    "print(f\"NumPy 1-D np.dot(b, a) = {c}, np.dot(a, b).shape = {c.shape} \")"
   ]
  },
  {
   "cell_type": "code",
   "execution_count": 17,
   "id": "ce4f7808",
   "metadata": {},
   "outputs": [
    {
     "name": "stdout",
     "output_type": "stream",
     "text": [
      "np.dot(a, b) =  2501072.5817\n",
      "Vectorized version duration: 62.5091 ms \n",
      "my_dot(a, b) =  2501072.5817\n",
      "loop version duration: 6037.1032 ms \n"
     ]
    }
   ],
   "source": [
    "#Vectors vs Loops - compared times\n",
    "\n",
    "np.random.seed(1)\n",
    "\n",
    "a = np.random.rand(10000000)\n",
    "b = np.random.rand(10000000)\n",
    "\n",
    "tic = time.time() #capture start time\n",
    "c = np.dot(a,b)\n",
    "toc = time.time()\n",
    "\n",
    "print(f\"np.dot(a, b) =  {c:.4f}\")\n",
    "print(f\"Vectorized version duration: {1000*(toc-tic):.4f} ms \")\n",
    "\n",
    "tic = time.time()  # capture start time\n",
    "c = my_dot(a,b)\n",
    "toc = time.time()  # capture end time\n",
    "\n",
    "print(f\"my_dot(a, b) =  {c:.4f}\")\n",
    "print(f\"loop version duration: {1000*(toc-tic):.4f} ms \")\n",
    "\n",
    "del(a);del(b)  #remove these big arrays from memory"
   ]
  },
  {
   "cell_type": "markdown",
   "id": "8369edeb",
   "metadata": {},
   "source": [
    "# X = np.array([1,2,3,4]) --> 1 dim arrays with 4 elements\n",
    "\n",
    "# X = np.array([[1], [2], [3], [4]]) -->create list of list where each inner list represents a row in 2dim array (array with rows and columns) --> 4 rows and 1 column\n",
    "\n"
   ]
  },
  {
   "cell_type": "code",
   "execution_count": 28,
   "id": "81b63846",
   "metadata": {},
   "outputs": [
    {
     "name": "stdout",
     "output_type": "stream",
     "text": [
      "c = 4\n",
      "X[1] has shape (1,)\n",
      "X has shape (4, 1)\n",
      "w has shape (1,)\n",
      "c has shape ()\n",
      "X has shape (4,)\n"
     ]
    }
   ],
   "source": [
    "#Example - two vectors multiply and gets a number/scalar\n",
    "\n",
    "X = np.array([[1], [2], [3], [4]]) #2 dim arrays with 4 rows and 1 column!!!! IMPORTANT\n",
    "w = np.array([2]) #vector (array) not scalar!! \n",
    "c = np.dot(X[1], w) #[2] by [2] is 4\n",
    "print(f\"c = {c}\")\n",
    "print(f\"X[1] has shape {X[1].shape}\")\n",
    "print(f\"X has shape {X.shape}\")\n",
    "print(f\"w has shape {w.shape}\")\n",
    "print(f\"c has shape {c.shape}\")"
   ]
  },
  {
   "cell_type": "markdown",
   "id": "bdfec840",
   "metadata": {},
   "source": [
    "# MATRICES - TWO DIM ARRAYS (with rows and columns)"
   ]
  },
  {
   "cell_type": "code",
   "execution_count": 21,
   "id": "fbad1af3",
   "metadata": {},
   "outputs": [
    {
     "name": "stdout",
     "output_type": "stream",
     "text": [
      "a shape = (1, 5), a = [[0. 0. 0. 0. 0.]]\n",
      "a shape = (2, 1), a = [[0.]\n",
      " [0.]]\n",
      "a shape = (1, 1), a = [[0.]]\n"
     ]
    }
   ],
   "source": [
    "#Matrices\n",
    "\n",
    "#Creation\n",
    "#1 row and 5 columns\n",
    "a = np.zeros((1,5))\n",
    "print(f\"a shape = {a.shape}, a = {a}\")\n",
    "\n",
    "#2 rows and 1 column\n",
    "a = np.zeros((2,1))\n",
    "print(f\"a shape = {a.shape}, a = {a}\")\n",
    "\n",
    "a = np.zeros((1,1))\n",
    "print(f\"a shape = {a.shape}, a = {a}\")"
   ]
  },
  {
   "cell_type": "code",
   "execution_count": 22,
   "id": "e4b23429",
   "metadata": {},
   "outputs": [
    {
     "name": "stdout",
     "output_type": "stream",
     "text": [
      "a shape = (3, 1), np.array: a = [[5]\n",
      " [4]\n",
      " [3]]\n",
      "a shape = (3, 1), np.array: a = [[5]\n",
      " [4]\n",
      " [3]]\n"
     ]
    }
   ],
   "source": [
    "# NumPy routines which allocate memory and fill with user specified values\n",
    "# get 3 rows and 1 column in 2dim array\n",
    "a = np.array([[5], [4], [3]]); print(f\"a shape = {a.shape}, np.array: a = {a}\")\n",
    "\n",
    "a = np.array([[5],  # One can also\n",
    "              [4],  # separate values\n",
    "              [3]]); #into separate rows\n",
    "print(f\"a shape = {a.shape}, np.array: a = {a}\")"
   ]
  },
  {
   "cell_type": "markdown",
   "id": "593d32c7",
   "metadata": {},
   "source": [
    "# .reshape(3,2) --> reshape to 3 rows and 2 columns"
   ]
  },
  {
   "cell_type": "code",
   "execution_count": 26,
   "id": "cb9e9742",
   "metadata": {},
   "outputs": [
    {
     "name": "stdout",
     "output_type": "stream",
     "text": [
      "a.shape: (3, 2), \n",
      "a = [[0 1]\n",
      " [2 3]\n",
      " [4 5]]\n",
      "\n",
      "a[2,0].shape: (), a[2,0] = 4, type(a[2,0]) = <class 'numpy.int32'> Accessing an element returns a scalar\n",
      "\n",
      "a[2].shape: (2,), a[2] = [4 5], type(a[2]) = <class 'numpy.ndarray'>\n"
     ]
    }
   ],
   "source": [
    "#Operatioins on Matrices\n",
    "#reshape to 3 rows and 2 columns\n",
    "a = np.arange(6).reshape(3,2)\n",
    "print(f\"a.shape: {a.shape}, \\na = {a}\")\n",
    "\n",
    "#Access an element\n",
    "#name[row, column] --> return scalar\n",
    "print(f\"\\na[2,0].shape: {a[2,0].shape}, a[2,0] = {a[2,0]}, type(a[2,0]) = {type(a[2,0])} Accessing an element returns a scalar\\n\")\n",
    "\n",
    "#Access a row\n",
    "#name[row] --> give us 1 vector (ndarray)\n",
    "#.shape and type() usable functions\n",
    "print(f\"a[2].shape: {a[2].shape}, a[2] = {a[2]}, type(a[2]) = {type(a[2])}\")"
   ]
  },
  {
   "cell_type": "code",
   "execution_count": 27,
   "id": "27d47a65",
   "metadata": {},
   "outputs": [
    {
     "name": "stdout",
     "output_type": "stream",
     "text": [
      "a = \n",
      " [[ 0  1  2  3  4  5  6  7  8  9]\n",
      " [10 11 12 13 14 15 16 17 18 19]]\n",
      "a[0, 2:7:1] =  [2 3 4 5 6] a[0,2:7:1].shape =  (5,) a 1-D array\n",
      "a[:, 2:7:1] = \n",
      " [[ 2  3  4  5  6]\n",
      " [12 13 14 15 16]] a[:,2:7:1].shape =  (2, 5) a 1-D array\n",
      "a[:,:]} [[ 0  1  2  3  4  5  6  7  8  9]\n",
      " [10 11 12 13 14 15 16 17 18 19]] , a[:,:].shape =  (2, 10)\n",
      "a[1,:]} [10 11 12 13 14 15 16 17 18 19] , a[1,:].shape =  (10,) a 1-D array\n",
      "a[1]} [10 11 12 13 14 15 16 17 18 19] , a[1].shape =  (10,) a 1-D array\n"
     ]
    }
   ],
   "source": [
    "#Vector 2-D slicing operaations\n",
    "# i have 20 numbers (from 0 to 19) \n",
    "#Numpy do this: 20:10=2 and that gives as 2 rows and 10 columns\n",
    "a = np.arange(20). reshape(-1, 10)\n",
    "\n",
    "print(f\"a = \\n {a}\")\n",
    "\n",
    "#Access 5 consecutive elements (start:stop:step):\n",
    "#from row 0 get from index 2 to 7 by 1 (without 7)\n",
    "print(\"a[0, 2:7:1] = \", a[0,2:7:1], \"a[0,2:7:1].shape = \", a[0,2:7:1].shape, \"a 1-D array\")\n",
    "\n",
    "#Access 5 consecutive elements in two rows (start:stop:step):\n",
    "#for all rows get element from index 2 to 7 by 1 (without 7)\n",
    "print(\"a[:, 2:7:1] = \\n\", a[:,2:7:1], \"a[:,2:7:1].shape = \", a[:,2:7:1].shape, \"a 1-D array\")\n",
    "\n",
    "#Access all elements\n",
    "\n",
    "print(\"a[:,:]}\", a[:,:], \", a[:,:].shape = \", a[:,:].shape)\n",
    "\n",
    "#Access all elements in one row - in row with index 1\n",
    "\n",
    "print(\"a[1,:]}\", a[1,:], \", a[1,:].shape = \", a[1,:].shape, \"a 1-D array\")\n",
    "\n",
    "#same as\n",
    "\n",
    "print(\"a[1]}\", a[1], \", a[1].shape = \", a[1].shape, \"a 1-D array\")\n"
   ]
  },
  {
   "cell_type": "code",
   "execution_count": null,
   "id": "75471d8f",
   "metadata": {},
   "outputs": [],
   "source": []
  }
 ],
 "metadata": {
  "kernelspec": {
   "display_name": "Python 3 (ipykernel)",
   "language": "python",
   "name": "python3"
  },
  "language_info": {
   "codemirror_mode": {
    "name": "ipython",
    "version": 3
   },
   "file_extension": ".py",
   "mimetype": "text/x-python",
   "name": "python",
   "nbconvert_exporter": "python",
   "pygments_lexer": "ipython3",
   "version": "3.11.4"
  }
 },
 "nbformat": 4,
 "nbformat_minor": 5
}
